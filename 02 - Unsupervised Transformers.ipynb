{
 "cells": [
  {
   "cell_type": "code",
   "execution_count": null,
   "metadata": {
    "collapsed": false
   },
   "outputs": [],
   "source": [
    "from sklearn.datasets import load_digits\n",
    "from sklearn.cross_validation import train_test_split\n",
    "import numpy as np\n",
    "np.set_printoptions(suppress=True)\n",
    "\n",
    "digits = load_digits()\n",
    "X, y = digits.data, digits.target\n",
    "X_train, X_test, y_train, y_test = train_test_split(X, y)"
   ]
  },
  {
   "cell_type": "code",
   "execution_count": 1,
   "metadata": {
    "collapsed": true
   },
   "outputs": [],
   "source": [
    "from sklearn.cross_validation import train_test_split\n",
    "import pandas as pd\n",
    "import numpy as np\n",
    "# load data and split\n",
    "df = pd.read_csv(\"/Users/shermanash/ds/metis/nyc16_ds6/04-mcnulty1/04-svms/cleveland_full_1.csv\")\n",
    "cols_we_like = [col for col in df.columns if col not in [['id','location','num']]]\n",
    "# train test split\n",
    "X = df[cols_we_like]\n",
    "y = df.num\n",
    "X_train, X_test, y_train, y_test = train_test_split(X, y)"
   ]
  },
  {
   "cell_type": "markdown",
   "metadata": {},
   "source": [
    "Removing mean and scaling variance\n",
    "==================================="
   ]
  },
  {
   "cell_type": "code",
   "execution_count": 2,
   "metadata": {
    "collapsed": false
   },
   "outputs": [],
   "source": [
    "from sklearn.preprocessing import StandardScaler"
   ]
  },
  {
   "cell_type": "markdown",
   "metadata": {},
   "source": [
    "1) Instantiate the model"
   ]
  },
  {
   "cell_type": "code",
   "execution_count": 3,
   "metadata": {
    "collapsed": false
   },
   "outputs": [],
   "source": [
    "scaler = StandardScaler()"
   ]
  },
  {
   "cell_type": "markdown",
   "metadata": {},
   "source": [
    "2) Fit using only the data."
   ]
  },
  {
   "cell_type": "code",
   "execution_count": 4,
   "metadata": {
    "collapsed": false
   },
   "outputs": [
    {
     "data": {
      "text/plain": [
       "StandardScaler(copy=True, with_mean=True, with_std=True)"
      ]
     },
     "execution_count": 4,
     "metadata": {},
     "output_type": "execute_result"
    }
   ],
   "source": [
    "scaler.fit(X_train)"
   ]
  },
  {
   "cell_type": "markdown",
   "metadata": {},
   "source": [
    "3) `transform` the data (not `predict`)."
   ]
  },
  {
   "cell_type": "code",
   "execution_count": 5,
   "metadata": {
    "collapsed": false
   },
   "outputs": [],
   "source": [
    "X_train_scaled = scaler.transform(X_train)"
   ]
  },
  {
   "cell_type": "code",
   "execution_count": 8,
   "metadata": {
    "collapsed": false
   },
   "outputs": [
    {
     "data": {
      "text/plain": [
       "(211, 55)"
      ]
     },
     "execution_count": 8,
     "metadata": {},
     "output_type": "execute_result"
    }
   ],
   "source": [
    "X_train.shape"
   ]
  },
  {
   "cell_type": "code",
   "execution_count": 9,
   "metadata": {
    "collapsed": false
   },
   "outputs": [
    {
     "data": {
      "text/plain": [
       "(211, 55)"
      ]
     },
     "execution_count": 9,
     "metadata": {},
     "output_type": "execute_result"
    }
   ],
   "source": [
    "X_train_scaled.shape"
   ]
  },
  {
   "cell_type": "markdown",
   "metadata": {},
   "source": [
    "The transformed version of the data has the mean removed:"
   ]
  },
  {
   "cell_type": "code",
   "execution_count": 10,
   "metadata": {
    "collapsed": false
   },
   "outputs": [
    {
     "data": {
      "text/plain": [
       "array([ -9.68156571e-17,  -4.63031404e-17,  -1.93631314e-16,\n",
       "         3.78843876e-17,   1.33647701e-16,  -5.38800179e-16,\n",
       "         3.78843876e-17,   2.33620390e-16,  -2.10468820e-18,\n",
       "         5.05125168e-17,  -5.89312696e-17,  -1.15231679e-16,\n",
       "         5.26172050e-17,   3.05179789e-17,   7.15593987e-17,\n",
       "         3.91472005e-15,   5.89312696e-17,  -1.26281292e-17,\n",
       "        -8.41875279e-18,  -8.41875279e-18,   1.68375056e-17,\n",
       "         0.00000000e+00,  -1.47328174e-17,  -4.20937640e-18,\n",
       "        -2.98865724e-16,   5.43009555e-16,  -2.60981337e-16,\n",
       "        -2.86237595e-16,  -4.40932178e-16,  -5.38800179e-16,\n",
       "         4.10414199e-17,  -2.52562584e-17,  -3.78843876e-17,\n",
       "         1.59956303e-16,   2.94656348e-17,  -8.41875279e-17,\n",
       "        -2.20992261e-17,   6.31406460e-17,  -9.15539366e-17,\n",
       "         2.52562584e-17,   3.91261536e-15,   2.73609466e-17,\n",
       "        -2.02050067e-16,   1.43118797e-16,  -1.26281292e-17,\n",
       "        -2.15730540e-17,  -3.28331359e-16,  -3.78843876e-17,\n",
       "        -2.82028219e-16,   0.00000000e+00,   0.00000000e+00,\n",
       "         7.57687751e-17,   6.31406460e-17,   1.68375056e-16,\n",
       "         0.00000000e+00])"
      ]
     },
     "execution_count": 10,
     "metadata": {},
     "output_type": "execute_result"
    }
   ],
   "source": [
    "X_train_scaled.mean(axis=0)"
   ]
  },
  {
   "cell_type": "code",
   "execution_count": 11,
   "metadata": {
    "collapsed": false
   },
   "outputs": [
    {
     "data": {
      "text/plain": [
       "array([ 1.,  1.,  1.,  1.,  1.,  1.,  1.,  1.,  1.,  1.,  1.,  1.,  1.,\n",
       "        1.,  1.,  1.,  1.,  1.,  1.,  1.,  1.,  0.,  1.,  1.,  1.,  1.,\n",
       "        1.,  1.,  1.,  1.,  1.,  1.,  1.,  1.,  1.,  1.,  1.,  1.,  1.,\n",
       "        1.,  1.,  1.,  1.,  1.,  1.,  1.,  1.,  1.,  1.,  0.,  0.,  1.,\n",
       "        1.,  1.,  0.])"
      ]
     },
     "execution_count": 11,
     "metadata": {},
     "output_type": "execute_result"
    }
   ],
   "source": [
    "X_train_scaled.std(axis=0)"
   ]
  },
  {
   "cell_type": "code",
   "execution_count": 12,
   "metadata": {
    "collapsed": false
   },
   "outputs": [],
   "source": [
    "X_test_transformed = scaler.transform(X_test)"
   ]
  },
  {
   "cell_type": "code",
   "execution_count": 13,
   "metadata": {
    "collapsed": false
   },
   "outputs": [
    {
     "data": {
      "text/plain": [
       "array([ 0.19415509,  0.1897073 , -0.16506205,  0.11598227,  0.14972378,\n",
       "       -0.0918847 , -0.10952007, -0.11502061,  0.02010801,  0.01335907,\n",
       "       -0.08159389, -0.0412394 ,  0.1133596 , -0.06916188, -0.17991651,\n",
       "        0.1759115 ,  0.068587  ,  0.22105515,  0.11702024,  0.13174769,\n",
       "        0.11010346,  0.        , -0.05389747,  0.11586623, -0.04753783,\n",
       "       -0.30917062, -0.16028356, -0.23766207, -0.03347738, -0.0918847 ,\n",
       "       -0.12572386,  0.28252683,  0.23680924, -0.02736929, -0.07642119,\n",
       "        0.13122767, -0.03713012, -0.08117398, -0.00741946, -0.22317232,\n",
       "        0.19121762,  0.08424405, -0.09047657,  0.22501365,  0.21323908,\n",
       "        0.04838531,  0.02142385, -0.11332626, -0.00359686,  0.        ,\n",
       "        0.        ,  0.06154746,  0.0917867 , -0.0981865 ,  0.        ])"
      ]
     },
     "execution_count": 13,
     "metadata": {},
     "output_type": "execute_result"
    }
   ],
   "source": [
    "X_test_transformed.mean(axis=0)"
   ]
  },
  {
   "cell_type": "code",
   "execution_count": 14,
   "metadata": {
    "collapsed": false
   },
   "outputs": [
    {
     "data": {
      "text/plain": [
       "array([[ 210.,  227.,   37., ...,    1.,    1.,    1.],\n",
       "       [ 217.,  234.,   46., ...,    1.,    1.,    1.],\n",
       "       [  73.,   78.,   65., ...,    1.,    1.,    1.],\n",
       "       ..., \n",
       "       [  18.,   20.,   48., ...,    1.,    1.,    1.],\n",
       "       [ 177.,  193.,   56., ...,    1.,    1.,    1.],\n",
       "       [   1.,    2.,   67., ...,    1.,    1.,    1.]])"
      ]
     },
     "execution_count": 14,
     "metadata": {},
     "output_type": "execute_result"
    }
   ],
   "source": [
    "scaler.inverse_transform(X_test_transformed)"
   ]
  },
  {
   "cell_type": "markdown",
   "metadata": {},
   "source": [
    "Principal Component Analysis\n",
    "============================="
   ]
  },
  {
   "cell_type": "markdown",
   "metadata": {},
   "source": [
    "0) Import the model"
   ]
  },
  {
   "cell_type": "code",
   "execution_count": 15,
   "metadata": {
    "collapsed": false
   },
   "outputs": [],
   "source": [
    "from sklearn.decomposition import PCA"
   ]
  },
  {
   "cell_type": "markdown",
   "metadata": {},
   "source": [
    "1) Instantiate the model"
   ]
  },
  {
   "cell_type": "code",
   "execution_count": 16,
   "metadata": {
    "collapsed": false
   },
   "outputs": [],
   "source": [
    "pca = PCA(n_components=2)"
   ]
  },
  {
   "cell_type": "markdown",
   "metadata": {},
   "source": [
    "2) Fit to training data"
   ]
  },
  {
   "cell_type": "code",
   "execution_count": 17,
   "metadata": {
    "collapsed": false
   },
   "outputs": [
    {
     "data": {
      "text/plain": [
       "PCA(copy=True, n_components=2, whiten=False)"
      ]
     },
     "execution_count": 17,
     "metadata": {},
     "output_type": "execute_result"
    }
   ],
   "source": [
    "pca.fit(X)"
   ]
  },
  {
   "cell_type": "markdown",
   "metadata": {},
   "source": [
    "3) Transform to lower-dimensional representation"
   ]
  },
  {
   "cell_type": "code",
   "execution_count": 18,
   "metadata": {
    "collapsed": false
   },
   "outputs": [
    {
     "name": "stdout",
     "output_type": "stream",
     "text": [
      "(282, 55)\n"
     ]
    },
    {
     "data": {
      "text/plain": [
       "(282, 2)"
      ]
     },
     "execution_count": 18,
     "metadata": {},
     "output_type": "execute_result"
    }
   ],
   "source": [
    "print(X.shape)\n",
    "X_pca = pca.transform(X)\n",
    "X_pca.shape"
   ]
  },
  {
   "cell_type": "markdown",
   "metadata": {},
   "source": [
    "Visualize\n",
    "----------"
   ]
  },
  {
   "cell_type": "code",
   "execution_count": 19,
   "metadata": {
    "collapsed": false
   },
   "outputs": [
    {
     "data": {
      "application/javascript": [
       "/* Put everything inside the global mpl namespace */\n",
       "window.mpl = {};\n",
       "\n",
       "mpl.get_websocket_type = function() {\n",
       "    if (typeof(WebSocket) !== 'undefined') {\n",
       "        return WebSocket;\n",
       "    } else if (typeof(MozWebSocket) !== 'undefined') {\n",
       "        return MozWebSocket;\n",
       "    } else {\n",
       "        alert('Your browser does not have WebSocket support.' +\n",
       "              'Please try Chrome, Safari or Firefox ≥ 6. ' +\n",
       "              'Firefox 4 and 5 are also supported but you ' +\n",
       "              'have to enable WebSockets in about:config.');\n",
       "    };\n",
       "}\n",
       "\n",
       "mpl.figure = function(figure_id, websocket, ondownload, parent_element) {\n",
       "    this.id = figure_id;\n",
       "\n",
       "    this.ws = websocket;\n",
       "\n",
       "    this.supports_binary = (this.ws.binaryType != undefined);\n",
       "\n",
       "    if (!this.supports_binary) {\n",
       "        var warnings = document.getElementById(\"mpl-warnings\");\n",
       "        if (warnings) {\n",
       "            warnings.style.display = 'block';\n",
       "            warnings.textContent = (\n",
       "                \"This browser does not support binary websocket messages. \" +\n",
       "                    \"Performance may be slow.\");\n",
       "        }\n",
       "    }\n",
       "\n",
       "    this.imageObj = new Image();\n",
       "\n",
       "    this.context = undefined;\n",
       "    this.message = undefined;\n",
       "    this.canvas = undefined;\n",
       "    this.rubberband_canvas = undefined;\n",
       "    this.rubberband_context = undefined;\n",
       "    this.format_dropdown = undefined;\n",
       "\n",
       "    this.image_mode = 'full';\n",
       "\n",
       "    this.root = $('<div/>');\n",
       "    this._root_extra_style(this.root)\n",
       "    this.root.attr('style', 'display: inline-block');\n",
       "\n",
       "    $(parent_element).append(this.root);\n",
       "\n",
       "    this._init_header(this);\n",
       "    this._init_canvas(this);\n",
       "    this._init_toolbar(this);\n",
       "\n",
       "    var fig = this;\n",
       "\n",
       "    this.waiting = false;\n",
       "\n",
       "    this.ws.onopen =  function () {\n",
       "            fig.send_message(\"supports_binary\", {value: fig.supports_binary});\n",
       "            fig.send_message(\"send_image_mode\", {});\n",
       "            fig.send_message(\"refresh\", {});\n",
       "        }\n",
       "\n",
       "    this.imageObj.onload = function() {\n",
       "            if (fig.image_mode == 'full') {\n",
       "                // Full images could contain transparency (where diff images\n",
       "                // almost always do), so we need to clear the canvas so that\n",
       "                // there is no ghosting.\n",
       "                fig.context.clearRect(0, 0, fig.canvas.width, fig.canvas.height);\n",
       "            }\n",
       "            fig.context.drawImage(fig.imageObj, 0, 0);\n",
       "        };\n",
       "\n",
       "    this.imageObj.onunload = function() {\n",
       "        this.ws.close();\n",
       "    }\n",
       "\n",
       "    this.ws.onmessage = this._make_on_message_function(this);\n",
       "\n",
       "    this.ondownload = ondownload;\n",
       "}\n",
       "\n",
       "mpl.figure.prototype._init_header = function() {\n",
       "    var titlebar = $(\n",
       "        '<div class=\"ui-dialog-titlebar ui-widget-header ui-corner-all ' +\n",
       "        'ui-helper-clearfix\"/>');\n",
       "    var titletext = $(\n",
       "        '<div class=\"ui-dialog-title\" style=\"width: 100%; ' +\n",
       "        'text-align: center; padding: 3px;\"/>');\n",
       "    titlebar.append(titletext)\n",
       "    this.root.append(titlebar);\n",
       "    this.header = titletext[0];\n",
       "}\n",
       "\n",
       "\n",
       "\n",
       "mpl.figure.prototype._canvas_extra_style = function(canvas_div) {\n",
       "\n",
       "}\n",
       "\n",
       "\n",
       "mpl.figure.prototype._root_extra_style = function(canvas_div) {\n",
       "\n",
       "}\n",
       "\n",
       "mpl.figure.prototype._init_canvas = function() {\n",
       "    var fig = this;\n",
       "\n",
       "    var canvas_div = $('<div/>');\n",
       "\n",
       "    canvas_div.attr('style', 'position: relative; clear: both; outline: 0');\n",
       "\n",
       "    function canvas_keyboard_event(event) {\n",
       "        return fig.key_event(event, event['data']);\n",
       "    }\n",
       "\n",
       "    canvas_div.keydown('key_press', canvas_keyboard_event);\n",
       "    canvas_div.keyup('key_release', canvas_keyboard_event);\n",
       "    this.canvas_div = canvas_div\n",
       "    this._canvas_extra_style(canvas_div)\n",
       "    this.root.append(canvas_div);\n",
       "\n",
       "    var canvas = $('<canvas/>');\n",
       "    canvas.addClass('mpl-canvas');\n",
       "    canvas.attr('style', \"left: 0; top: 0; z-index: 0; outline: 0\")\n",
       "\n",
       "    this.canvas = canvas[0];\n",
       "    this.context = canvas[0].getContext(\"2d\");\n",
       "\n",
       "    var rubberband = $('<canvas/>');\n",
       "    rubberband.attr('style', \"position: absolute; left: 0; top: 0; z-index: 1;\")\n",
       "\n",
       "    var pass_mouse_events = true;\n",
       "\n",
       "    canvas_div.resizable({\n",
       "        start: function(event, ui) {\n",
       "            pass_mouse_events = false;\n",
       "        },\n",
       "        resize: function(event, ui) {\n",
       "            fig.request_resize(ui.size.width, ui.size.height);\n",
       "        },\n",
       "        stop: function(event, ui) {\n",
       "            pass_mouse_events = true;\n",
       "            fig.request_resize(ui.size.width, ui.size.height);\n",
       "        },\n",
       "    });\n",
       "\n",
       "    function mouse_event_fn(event) {\n",
       "        if (pass_mouse_events)\n",
       "            return fig.mouse_event(event, event['data']);\n",
       "    }\n",
       "\n",
       "    rubberband.mousedown('button_press', mouse_event_fn);\n",
       "    rubberband.mouseup('button_release', mouse_event_fn);\n",
       "    // Throttle sequential mouse events to 1 every 20ms.\n",
       "    rubberband.mousemove('motion_notify', mouse_event_fn);\n",
       "\n",
       "    rubberband.mouseenter('figure_enter', mouse_event_fn);\n",
       "    rubberband.mouseleave('figure_leave', mouse_event_fn);\n",
       "\n",
       "    canvas_div.on(\"wheel\", function (event) {\n",
       "        event = event.originalEvent;\n",
       "        event['data'] = 'scroll'\n",
       "        if (event.deltaY < 0) {\n",
       "            event.step = 1;\n",
       "        } else {\n",
       "            event.step = -1;\n",
       "        }\n",
       "        mouse_event_fn(event);\n",
       "    });\n",
       "\n",
       "    canvas_div.append(canvas);\n",
       "    canvas_div.append(rubberband);\n",
       "\n",
       "    this.rubberband = rubberband;\n",
       "    this.rubberband_canvas = rubberband[0];\n",
       "    this.rubberband_context = rubberband[0].getContext(\"2d\");\n",
       "    this.rubberband_context.strokeStyle = \"#000000\";\n",
       "\n",
       "    this._resize_canvas = function(width, height) {\n",
       "        // Keep the size of the canvas, canvas container, and rubber band\n",
       "        // canvas in synch.\n",
       "        canvas_div.css('width', width)\n",
       "        canvas_div.css('height', height)\n",
       "\n",
       "        canvas.attr('width', width);\n",
       "        canvas.attr('height', height);\n",
       "\n",
       "        rubberband.attr('width', width);\n",
       "        rubberband.attr('height', height);\n",
       "    }\n",
       "\n",
       "    // Set the figure to an initial 600x600px, this will subsequently be updated\n",
       "    // upon first draw.\n",
       "    this._resize_canvas(600, 600);\n",
       "\n",
       "    // Disable right mouse context menu.\n",
       "    $(this.rubberband_canvas).bind(\"contextmenu\",function(e){\n",
       "        return false;\n",
       "    });\n",
       "\n",
       "    function set_focus () {\n",
       "        canvas.focus();\n",
       "        canvas_div.focus();\n",
       "    }\n",
       "\n",
       "    window.setTimeout(set_focus, 100);\n",
       "}\n",
       "\n",
       "mpl.figure.prototype._init_toolbar = function() {\n",
       "    var fig = this;\n",
       "\n",
       "    var nav_element = $('<div/>')\n",
       "    nav_element.attr('style', 'width: 100%');\n",
       "    this.root.append(nav_element);\n",
       "\n",
       "    // Define a callback function for later on.\n",
       "    function toolbar_event(event) {\n",
       "        return fig.toolbar_button_onclick(event['data']);\n",
       "    }\n",
       "    function toolbar_mouse_event(event) {\n",
       "        return fig.toolbar_button_onmouseover(event['data']);\n",
       "    }\n",
       "\n",
       "    for(var toolbar_ind in mpl.toolbar_items) {\n",
       "        var name = mpl.toolbar_items[toolbar_ind][0];\n",
       "        var tooltip = mpl.toolbar_items[toolbar_ind][1];\n",
       "        var image = mpl.toolbar_items[toolbar_ind][2];\n",
       "        var method_name = mpl.toolbar_items[toolbar_ind][3];\n",
       "\n",
       "        if (!name) {\n",
       "            // put a spacer in here.\n",
       "            continue;\n",
       "        }\n",
       "        var button = $('<button/>');\n",
       "        button.addClass('ui-button ui-widget ui-state-default ui-corner-all ' +\n",
       "                        'ui-button-icon-only');\n",
       "        button.attr('role', 'button');\n",
       "        button.attr('aria-disabled', 'false');\n",
       "        button.click(method_name, toolbar_event);\n",
       "        button.mouseover(tooltip, toolbar_mouse_event);\n",
       "\n",
       "        var icon_img = $('<span/>');\n",
       "        icon_img.addClass('ui-button-icon-primary ui-icon');\n",
       "        icon_img.addClass(image);\n",
       "        icon_img.addClass('ui-corner-all');\n",
       "\n",
       "        var tooltip_span = $('<span/>');\n",
       "        tooltip_span.addClass('ui-button-text');\n",
       "        tooltip_span.html(tooltip);\n",
       "\n",
       "        button.append(icon_img);\n",
       "        button.append(tooltip_span);\n",
       "\n",
       "        nav_element.append(button);\n",
       "    }\n",
       "\n",
       "    var fmt_picker_span = $('<span/>');\n",
       "\n",
       "    var fmt_picker = $('<select/>');\n",
       "    fmt_picker.addClass('mpl-toolbar-option ui-widget ui-widget-content');\n",
       "    fmt_picker_span.append(fmt_picker);\n",
       "    nav_element.append(fmt_picker_span);\n",
       "    this.format_dropdown = fmt_picker[0];\n",
       "\n",
       "    for (var ind in mpl.extensions) {\n",
       "        var fmt = mpl.extensions[ind];\n",
       "        var option = $(\n",
       "            '<option/>', {selected: fmt === mpl.default_extension}).html(fmt);\n",
       "        fmt_picker.append(option)\n",
       "    }\n",
       "\n",
       "    // Add hover states to the ui-buttons\n",
       "    $( \".ui-button\" ).hover(\n",
       "        function() { $(this).addClass(\"ui-state-hover\");},\n",
       "        function() { $(this).removeClass(\"ui-state-hover\");}\n",
       "    );\n",
       "\n",
       "    var status_bar = $('<span class=\"mpl-message\"/>');\n",
       "    nav_element.append(status_bar);\n",
       "    this.message = status_bar[0];\n",
       "}\n",
       "\n",
       "mpl.figure.prototype.request_resize = function(x_pixels, y_pixels) {\n",
       "    // Request matplotlib to resize the figure. Matplotlib will then trigger a resize in the client,\n",
       "    // which will in turn request a refresh of the image.\n",
       "    this.send_message('resize', {'width': x_pixels, 'height': y_pixels});\n",
       "}\n",
       "\n",
       "mpl.figure.prototype.send_message = function(type, properties) {\n",
       "    properties['type'] = type;\n",
       "    properties['figure_id'] = this.id;\n",
       "    this.ws.send(JSON.stringify(properties));\n",
       "}\n",
       "\n",
       "mpl.figure.prototype.send_draw_message = function() {\n",
       "    if (!this.waiting) {\n",
       "        this.waiting = true;\n",
       "        this.ws.send(JSON.stringify({type: \"draw\", figure_id: this.id}));\n",
       "    }\n",
       "}\n",
       "\n",
       "\n",
       "mpl.figure.prototype.handle_save = function(fig, msg) {\n",
       "    var format_dropdown = fig.format_dropdown;\n",
       "    var format = format_dropdown.options[format_dropdown.selectedIndex].value;\n",
       "    fig.ondownload(fig, format);\n",
       "}\n",
       "\n",
       "\n",
       "mpl.figure.prototype.handle_resize = function(fig, msg) {\n",
       "    var size = msg['size'];\n",
       "    if (size[0] != fig.canvas.width || size[1] != fig.canvas.height) {\n",
       "        fig._resize_canvas(size[0], size[1]);\n",
       "        fig.send_message(\"refresh\", {});\n",
       "    };\n",
       "}\n",
       "\n",
       "mpl.figure.prototype.handle_rubberband = function(fig, msg) {\n",
       "    var x0 = msg['x0'];\n",
       "    var y0 = fig.canvas.height - msg['y0'];\n",
       "    var x1 = msg['x1'];\n",
       "    var y1 = fig.canvas.height - msg['y1'];\n",
       "    x0 = Math.floor(x0) + 0.5;\n",
       "    y0 = Math.floor(y0) + 0.5;\n",
       "    x1 = Math.floor(x1) + 0.5;\n",
       "    y1 = Math.floor(y1) + 0.5;\n",
       "    var min_x = Math.min(x0, x1);\n",
       "    var min_y = Math.min(y0, y1);\n",
       "    var width = Math.abs(x1 - x0);\n",
       "    var height = Math.abs(y1 - y0);\n",
       "\n",
       "    fig.rubberband_context.clearRect(\n",
       "        0, 0, fig.canvas.width, fig.canvas.height);\n",
       "\n",
       "    fig.rubberband_context.strokeRect(min_x, min_y, width, height);\n",
       "}\n",
       "\n",
       "mpl.figure.prototype.handle_figure_label = function(fig, msg) {\n",
       "    // Updates the figure title.\n",
       "    fig.header.textContent = msg['label'];\n",
       "}\n",
       "\n",
       "mpl.figure.prototype.handle_cursor = function(fig, msg) {\n",
       "    var cursor = msg['cursor'];\n",
       "    switch(cursor)\n",
       "    {\n",
       "    case 0:\n",
       "        cursor = 'pointer';\n",
       "        break;\n",
       "    case 1:\n",
       "        cursor = 'default';\n",
       "        break;\n",
       "    case 2:\n",
       "        cursor = 'crosshair';\n",
       "        break;\n",
       "    case 3:\n",
       "        cursor = 'move';\n",
       "        break;\n",
       "    }\n",
       "    fig.rubberband_canvas.style.cursor = cursor;\n",
       "}\n",
       "\n",
       "mpl.figure.prototype.handle_message = function(fig, msg) {\n",
       "    fig.message.textContent = msg['message'];\n",
       "}\n",
       "\n",
       "mpl.figure.prototype.handle_draw = function(fig, msg) {\n",
       "    // Request the server to send over a new figure.\n",
       "    fig.send_draw_message();\n",
       "}\n",
       "\n",
       "mpl.figure.prototype.handle_image_mode = function(fig, msg) {\n",
       "    fig.image_mode = msg['mode'];\n",
       "}\n",
       "\n",
       "mpl.figure.prototype.updated_canvas_event = function() {\n",
       "    // Called whenever the canvas gets updated.\n",
       "    this.send_message(\"ack\", {});\n",
       "}\n",
       "\n",
       "// A function to construct a web socket function for onmessage handling.\n",
       "// Called in the figure constructor.\n",
       "mpl.figure.prototype._make_on_message_function = function(fig) {\n",
       "    return function socket_on_message(evt) {\n",
       "        if (evt.data instanceof Blob) {\n",
       "            /* FIXME: We get \"Resource interpreted as Image but\n",
       "             * transferred with MIME type text/plain:\" errors on\n",
       "             * Chrome.  But how to set the MIME type?  It doesn't seem\n",
       "             * to be part of the websocket stream */\n",
       "            evt.data.type = \"image/png\";\n",
       "\n",
       "            /* Free the memory for the previous frames */\n",
       "            if (fig.imageObj.src) {\n",
       "                (window.URL || window.webkitURL).revokeObjectURL(\n",
       "                    fig.imageObj.src);\n",
       "            }\n",
       "\n",
       "            fig.imageObj.src = (window.URL || window.webkitURL).createObjectURL(\n",
       "                evt.data);\n",
       "            fig.updated_canvas_event();\n",
       "            fig.waiting = false;\n",
       "            return;\n",
       "        }\n",
       "        else if (typeof evt.data === 'string' && evt.data.slice(0, 21) == \"data:image/png;base64\") {\n",
       "            fig.imageObj.src = evt.data;\n",
       "            fig.updated_canvas_event();\n",
       "            fig.waiting = false;\n",
       "            return;\n",
       "        }\n",
       "\n",
       "        var msg = JSON.parse(evt.data);\n",
       "        var msg_type = msg['type'];\n",
       "\n",
       "        // Call the  \"handle_{type}\" callback, which takes\n",
       "        // the figure and JSON message as its only arguments.\n",
       "        try {\n",
       "            var callback = fig[\"handle_\" + msg_type];\n",
       "        } catch (e) {\n",
       "            console.log(\"No handler for the '\" + msg_type + \"' message type: \", msg);\n",
       "            return;\n",
       "        }\n",
       "\n",
       "        if (callback) {\n",
       "            try {\n",
       "                // console.log(\"Handling '\" + msg_type + \"' message: \", msg);\n",
       "                callback(fig, msg);\n",
       "            } catch (e) {\n",
       "                console.log(\"Exception inside the 'handler_\" + msg_type + \"' callback:\", e, e.stack, msg);\n",
       "            }\n",
       "        }\n",
       "    };\n",
       "}\n",
       "\n",
       "// from http://stackoverflow.com/questions/1114465/getting-mouse-location-in-canvas\n",
       "mpl.findpos = function(e) {\n",
       "    //this section is from http://www.quirksmode.org/js/events_properties.html\n",
       "    var targ;\n",
       "    if (!e)\n",
       "        e = window.event;\n",
       "    if (e.target)\n",
       "        targ = e.target;\n",
       "    else if (e.srcElement)\n",
       "        targ = e.srcElement;\n",
       "    if (targ.nodeType == 3) // defeat Safari bug\n",
       "        targ = targ.parentNode;\n",
       "\n",
       "    // jQuery normalizes the pageX and pageY\n",
       "    // pageX,Y are the mouse positions relative to the document\n",
       "    // offset() returns the position of the element relative to the document\n",
       "    var x = e.pageX - $(targ).offset().left;\n",
       "    var y = e.pageY - $(targ).offset().top;\n",
       "\n",
       "    return {\"x\": x, \"y\": y};\n",
       "};\n",
       "\n",
       "/*\n",
       " * return a copy of an object with only non-object keys\n",
       " * we need this to avoid circular references\n",
       " * http://stackoverflow.com/a/24161582/3208463\n",
       " */\n",
       "function simpleKeys (original) {\n",
       "  return Object.keys(original).reduce(function (obj, key) {\n",
       "    if (typeof original[key] !== 'object')\n",
       "        obj[key] = original[key]\n",
       "    return obj;\n",
       "  }, {});\n",
       "}\n",
       "\n",
       "mpl.figure.prototype.mouse_event = function(event, name) {\n",
       "    var canvas_pos = mpl.findpos(event)\n",
       "\n",
       "    if (name === 'button_press')\n",
       "    {\n",
       "        this.canvas.focus();\n",
       "        this.canvas_div.focus();\n",
       "    }\n",
       "\n",
       "    var x = canvas_pos.x;\n",
       "    var y = canvas_pos.y;\n",
       "\n",
       "    this.send_message(name, {x: x, y: y, button: event.button,\n",
       "                             step: event.step,\n",
       "                             guiEvent: simpleKeys(event)});\n",
       "\n",
       "    /* This prevents the web browser from automatically changing to\n",
       "     * the text insertion cursor when the button is pressed.  We want\n",
       "     * to control all of the cursor setting manually through the\n",
       "     * 'cursor' event from matplotlib */\n",
       "    event.preventDefault();\n",
       "    return false;\n",
       "}\n",
       "\n",
       "mpl.figure.prototype._key_event_extra = function(event, name) {\n",
       "    // Handle any extra behaviour associated with a key event\n",
       "}\n",
       "\n",
       "mpl.figure.prototype.key_event = function(event, name) {\n",
       "\n",
       "    // Prevent repeat events\n",
       "    if (name == 'key_press')\n",
       "    {\n",
       "        if (event.which === this._key)\n",
       "            return;\n",
       "        else\n",
       "            this._key = event.which;\n",
       "    }\n",
       "    if (name == 'key_release')\n",
       "        this._key = null;\n",
       "\n",
       "    var value = '';\n",
       "    if (event.ctrlKey && event.which != 17)\n",
       "        value += \"ctrl+\";\n",
       "    if (event.altKey && event.which != 18)\n",
       "        value += \"alt+\";\n",
       "    if (event.shiftKey && event.which != 16)\n",
       "        value += \"shift+\";\n",
       "\n",
       "    value += 'k';\n",
       "    value += event.which.toString();\n",
       "\n",
       "    this._key_event_extra(event, name);\n",
       "\n",
       "    this.send_message(name, {key: value,\n",
       "                             guiEvent: simpleKeys(event)});\n",
       "    return false;\n",
       "}\n",
       "\n",
       "mpl.figure.prototype.toolbar_button_onclick = function(name) {\n",
       "    if (name == 'download') {\n",
       "        this.handle_save(this, null);\n",
       "    } else {\n",
       "        this.send_message(\"toolbar_button\", {name: name});\n",
       "    }\n",
       "};\n",
       "\n",
       "mpl.figure.prototype.toolbar_button_onmouseover = function(tooltip) {\n",
       "    this.message.textContent = tooltip;\n",
       "};\n",
       "mpl.toolbar_items = [[\"Home\", \"Reset original view\", \"fa fa-home icon-home\", \"home\"], [\"Back\", \"Back to  previous view\", \"fa fa-arrow-left icon-arrow-left\", \"back\"], [\"Forward\", \"Forward to next view\", \"fa fa-arrow-right icon-arrow-right\", \"forward\"], [\"\", \"\", \"\", \"\"], [\"Pan\", \"Pan axes with left mouse, zoom with right\", \"fa fa-arrows icon-move\", \"pan\"], [\"Zoom\", \"Zoom to rectangle\", \"fa fa-square-o icon-check-empty\", \"zoom\"], [\"\", \"\", \"\", \"\"], [\"Download\", \"Download plot\", \"fa fa-floppy-o icon-save\", \"download\"]];\n",
       "\n",
       "mpl.extensions = [\"eps\", \"jpeg\", \"pdf\", \"png\", \"ps\", \"raw\", \"svg\", \"tif\"];\n",
       "\n",
       "mpl.default_extension = \"png\";var comm_websocket_adapter = function(comm) {\n",
       "    // Create a \"websocket\"-like object which calls the given IPython comm\n",
       "    // object with the appropriate methods. Currently this is a non binary\n",
       "    // socket, so there is still some room for performance tuning.\n",
       "    var ws = {};\n",
       "\n",
       "    ws.close = function() {\n",
       "        comm.close()\n",
       "    };\n",
       "    ws.send = function(m) {\n",
       "        //console.log('sending', m);\n",
       "        comm.send(m);\n",
       "    };\n",
       "    // Register the callback with on_msg.\n",
       "    comm.on_msg(function(msg) {\n",
       "        //console.log('receiving', msg['content']['data'], msg);\n",
       "        // Pass the mpl event to the overriden (by mpl) onmessage function.\n",
       "        ws.onmessage(msg['content']['data'])\n",
       "    });\n",
       "    return ws;\n",
       "}\n",
       "\n",
       "mpl.mpl_figure_comm = function(comm, msg) {\n",
       "    // This is the function which gets called when the mpl process\n",
       "    // starts-up an IPython Comm through the \"matplotlib\" channel.\n",
       "\n",
       "    var id = msg.content.data.id;\n",
       "    // Get hold of the div created by the display call when the Comm\n",
       "    // socket was opened in Python.\n",
       "    var element = $(\"#\" + id);\n",
       "    var ws_proxy = comm_websocket_adapter(comm)\n",
       "\n",
       "    function ondownload(figure, format) {\n",
       "        window.open(figure.imageObj.src);\n",
       "    }\n",
       "\n",
       "    var fig = new mpl.figure(id, ws_proxy,\n",
       "                           ondownload,\n",
       "                           element.get(0));\n",
       "\n",
       "    // Call onopen now - mpl needs it, as it is assuming we've passed it a real\n",
       "    // web socket which is closed, not our websocket->open comm proxy.\n",
       "    ws_proxy.onopen();\n",
       "\n",
       "    fig.parent_element = element.get(0);\n",
       "    fig.cell_info = mpl.find_output_cell(\"<div id='\" + id + \"'></div>\");\n",
       "    if (!fig.cell_info) {\n",
       "        console.error(\"Failed to find cell for figure\", id, fig);\n",
       "        return;\n",
       "    }\n",
       "\n",
       "    var output_index = fig.cell_info[2]\n",
       "    var cell = fig.cell_info[0];\n",
       "\n",
       "};\n",
       "\n",
       "mpl.figure.prototype.handle_close = function(fig, msg) {\n",
       "    fig.root.unbind('remove')\n",
       "\n",
       "    // Update the output cell to use the data from the current canvas.\n",
       "    fig.push_to_output();\n",
       "    var dataURL = fig.canvas.toDataURL();\n",
       "    // Re-enable the keyboard manager in IPython - without this line, in FF,\n",
       "    // the notebook keyboard shortcuts fail.\n",
       "    IPython.keyboard_manager.enable()\n",
       "    $(fig.parent_element).html('<img src=\"' + dataURL + '\">');\n",
       "    fig.close_ws(fig, msg);\n",
       "}\n",
       "\n",
       "mpl.figure.prototype.close_ws = function(fig, msg){\n",
       "    fig.send_message('closing', msg);\n",
       "    // fig.ws.close()\n",
       "}\n",
       "\n",
       "mpl.figure.prototype.push_to_output = function(remove_interactive) {\n",
       "    // Turn the data on the canvas into data in the output cell.\n",
       "    var dataURL = this.canvas.toDataURL();\n",
       "    this.cell_info[1]['text/html'] = '<img src=\"' + dataURL + '\">';\n",
       "}\n",
       "\n",
       "mpl.figure.prototype.updated_canvas_event = function() {\n",
       "    // Tell IPython that the notebook contents must change.\n",
       "    IPython.notebook.set_dirty(true);\n",
       "    this.send_message(\"ack\", {});\n",
       "    var fig = this;\n",
       "    // Wait a second, then push the new image to the DOM so\n",
       "    // that it is saved nicely (might be nice to debounce this).\n",
       "    setTimeout(function () { fig.push_to_output() }, 1000);\n",
       "}\n",
       "\n",
       "mpl.figure.prototype._init_toolbar = function() {\n",
       "    var fig = this;\n",
       "\n",
       "    var nav_element = $('<div/>')\n",
       "    nav_element.attr('style', 'width: 100%');\n",
       "    this.root.append(nav_element);\n",
       "\n",
       "    // Define a callback function for later on.\n",
       "    function toolbar_event(event) {\n",
       "        return fig.toolbar_button_onclick(event['data']);\n",
       "    }\n",
       "    function toolbar_mouse_event(event) {\n",
       "        return fig.toolbar_button_onmouseover(event['data']);\n",
       "    }\n",
       "\n",
       "    for(var toolbar_ind in mpl.toolbar_items){\n",
       "        var name = mpl.toolbar_items[toolbar_ind][0];\n",
       "        var tooltip = mpl.toolbar_items[toolbar_ind][1];\n",
       "        var image = mpl.toolbar_items[toolbar_ind][2];\n",
       "        var method_name = mpl.toolbar_items[toolbar_ind][3];\n",
       "\n",
       "        if (!name) { continue; };\n",
       "\n",
       "        var button = $('<button class=\"btn btn-default\" href=\"#\" title=\"' + name + '\"><i class=\"fa ' + image + ' fa-lg\"></i></button>');\n",
       "        button.click(method_name, toolbar_event);\n",
       "        button.mouseover(tooltip, toolbar_mouse_event);\n",
       "        nav_element.append(button);\n",
       "    }\n",
       "\n",
       "    // Add the status bar.\n",
       "    var status_bar = $('<span class=\"mpl-message\" style=\"text-align:right; float: right;\"/>');\n",
       "    nav_element.append(status_bar);\n",
       "    this.message = status_bar[0];\n",
       "\n",
       "    // Add the close button to the window.\n",
       "    var buttongrp = $('<div class=\"btn-group inline pull-right\"></div>');\n",
       "    var button = $('<button class=\"btn btn-mini btn-primary\" href=\"#\" title=\"Stop Interaction\"><i class=\"fa fa-power-off icon-remove icon-large\"></i></button>');\n",
       "    button.click(function (evt) { fig.handle_close(fig, {}); } );\n",
       "    button.mouseover('Stop Interaction', toolbar_mouse_event);\n",
       "    buttongrp.append(button);\n",
       "    var titlebar = this.root.find($('.ui-dialog-titlebar'));\n",
       "    titlebar.prepend(buttongrp);\n",
       "}\n",
       "\n",
       "mpl.figure.prototype._root_extra_style = function(el){\n",
       "    var fig = this\n",
       "    el.on(\"remove\", function(){\n",
       "\tfig.close_ws(fig, {});\n",
       "    });\n",
       "}\n",
       "\n",
       "mpl.figure.prototype._canvas_extra_style = function(el){\n",
       "    // this is important to make the div 'focusable\n",
       "    el.attr('tabindex', 0)\n",
       "    // reach out to IPython and tell the keyboard manager to turn it's self\n",
       "    // off when our div gets focus\n",
       "\n",
       "    // location in version 3\n",
       "    if (IPython.notebook.keyboard_manager) {\n",
       "        IPython.notebook.keyboard_manager.register_events(el);\n",
       "    }\n",
       "    else {\n",
       "        // location in version 2\n",
       "        IPython.keyboard_manager.register_events(el);\n",
       "    }\n",
       "\n",
       "}\n",
       "\n",
       "mpl.figure.prototype._key_event_extra = function(event, name) {\n",
       "    var manager = IPython.notebook.keyboard_manager;\n",
       "    if (!manager)\n",
       "        manager = IPython.keyboard_manager;\n",
       "\n",
       "    // Check for shift+enter\n",
       "    if (event.shiftKey && event.which == 13) {\n",
       "        this.canvas_div.blur();\n",
       "        event.shiftKey = false;\n",
       "        // Send a \"J\" for go to next cell\n",
       "        event.which = 74;\n",
       "        event.keyCode = 74;\n",
       "        manager.command_mode();\n",
       "        manager.handle_keydown(event);\n",
       "    }\n",
       "}\n",
       "\n",
       "mpl.figure.prototype.handle_save = function(fig, msg) {\n",
       "    fig.ondownload(fig, null);\n",
       "}\n",
       "\n",
       "\n",
       "mpl.find_output_cell = function(html_output) {\n",
       "    // Return the cell and output element which can be found *uniquely* in the notebook.\n",
       "    // Note - this is a bit hacky, but it is done because the \"notebook_saving.Notebook\"\n",
       "    // IPython event is triggered only after the cells have been serialised, which for\n",
       "    // our purposes (turning an active figure into a static one), is too late.\n",
       "    var cells = IPython.notebook.get_cells();\n",
       "    var ncells = cells.length;\n",
       "    for (var i=0; i<ncells; i++) {\n",
       "        var cell = cells[i];\n",
       "        if (cell.cell_type === 'code'){\n",
       "            for (var j=0; j<cell.output_area.outputs.length; j++) {\n",
       "                var data = cell.output_area.outputs[j];\n",
       "                if (data.data) {\n",
       "                    // IPython >= 3 moved mimebundle to data attribute of output\n",
       "                    data = data.data;\n",
       "                }\n",
       "                if (data['text/html'] == html_output) {\n",
       "                    return [cell, data, j];\n",
       "                }\n",
       "            }\n",
       "        }\n",
       "    }\n",
       "}\n",
       "\n",
       "// Register the function which deals with the matplotlib target/channel.\n",
       "// The kernel may be null if the page has been refreshed.\n",
       "if (IPython.notebook.kernel != null) {\n",
       "    IPython.notebook.kernel.comm_manager.register_target('matplotlib', mpl.mpl_figure_comm);\n",
       "}\n"
      ],
      "text/plain": [
       "<IPython.core.display.Javascript object>"
      ]
     },
     "metadata": {},
     "output_type": "display_data"
    },
    {
     "data": {
      "text/html": [
       "<img src=\"data:image/png;base64,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\">"
      ],
      "text/plain": [
       "<IPython.core.display.HTML object>"
      ]
     },
     "metadata": {},
     "output_type": "display_data"
    },
    {
     "data": {
      "text/plain": [
       "<matplotlib.collections.PathCollection at 0x10e6de790>"
      ]
     },
     "execution_count": 19,
     "metadata": {},
     "output_type": "execute_result"
    }
   ],
   "source": [
    "import matplotlib.pyplot as plt\n",
    "%matplotlib notebook\n",
    "plt.scatter(X_pca[:, 0], X_pca[:, 1], c=y)"
   ]
  },
  {
   "cell_type": "code",
   "execution_count": null,
   "metadata": {
    "collapsed": false
   },
   "outputs": [],
   "source": []
  }
 ],
 "metadata": {
  "kernelspec": {
   "display_name": "Python 2",
   "language": "python",
   "name": "python2"
  },
  "language_info": {
   "codemirror_mode": {
    "name": "ipython",
    "version": 2
   },
   "file_extension": ".py",
   "mimetype": "text/x-python",
   "name": "python",
   "nbconvert_exporter": "python",
   "pygments_lexer": "ipython2",
   "version": "2.7.11"
  }
 },
 "nbformat": 4,
 "nbformat_minor": 0
}
